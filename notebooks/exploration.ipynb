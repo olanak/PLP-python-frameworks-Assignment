{
 "cells": [
  {
   "cell_type": "code",
   "execution_count": 1,
   "id": "9131897f",
   "metadata": {},
   "outputs": [],
   "source": [
    "# 1. Imports\n",
    "import os\n",
    "import pandas as pd\n",
    "import matplotlib.pyplot as plt\n",
    "import re\n",
    "from collections import Counter"
   ]
  },
  {
   "cell_type": "code",
   "execution_count": 2,
   "id": "75aa9ee9",
   "metadata": {},
   "outputs": [],
   "source": [
    "def missing_summary(df):\n",
    "    miss = df.isnull().sum()\n",
    "    pct = (miss / len(df) * 100).round(2)\n",
    "    return pd.DataFrame({'missing_count': miss, 'missing_pct': pct}).sort_values('missing_pct', ascending=False)\n"
   ]
  },
  {
   "cell_type": "code",
   "execution_count": 3,
   "id": "0bbf4c54",
   "metadata": {},
   "outputs": [],
   "source": [
    "def simple_top_words(series, top_n=20):\n",
    "    text = \" \".join(series.dropna().astype(str)).lower()\n",
    "    tokens = re.findall(r\"\\b[a-z]{2,}\\b\", text)\n",
    "    ctr = Counter(tokens)\n",
    "    return ctr.most_common(top_n)"
   ]
  },
  {
   "cell_type": "code",
   "execution_count": 14,
   "id": "d9b17a15",
   "metadata": {},
   "outputs": [],
   "source": [
    "DATA_PATH = \"../data/metadata.csv\"\n",
    "assert os.path.exists(DATA_PATH), f\"Place metadata.csv at {DATA_PATH}\""
   ]
  },
  {
   "cell_type": "code",
   "execution_count": 15,
   "id": "6e0364ef",
   "metadata": {},
   "outputs": [],
   "source": [
    "usecols = ['cord_uid','title','abstract','publish_time','authors','journal','source_x','doi']\n",
    "existing = [c for c in usecols if c in pd.read_csv(DATA_PATH, nrows=0).columns]\n",
    "df = pd.read_csv(DATA_PATH, usecols=existing, dtype=str, low_memory=False)"
   ]
  },
  {
   "cell_type": "code",
   "execution_count": 16,
   "id": "30c41c45",
   "metadata": {},
   "outputs": [
    {
     "name": "stderr",
     "output_type": "stream",
     "text": [
      "C:\\Users\\HP\\AppData\\Local\\Temp\\ipykernel_16172\\3228233715.py:3: UserWarning: The argument 'infer_datetime_format' is deprecated and will be removed in a future version. A strict version of it is now the default, see https://pandas.pydata.org/pdeps/0004-consistent-to-datetime-parsing.html. You can safely remove this argument.\n",
      "  df['publish_time'] = pd.to_datetime(df['publish_time'], errors='coerce', infer_datetime_format=True)\n"
     ]
    }
   ],
   "source": [
    "# 5. Parse dates and normalize column names\n",
    "if 'publish_time' in df.columns:\n",
    "    df['publish_time'] = pd.to_datetime(df['publish_time'], errors='coerce', infer_datetime_format=True)\n",
    "if 'source_x' in df.columns:\n",
    "    df = df.rename(columns={'source_x': 'source'})"
   ]
  },
  {
   "cell_type": "code",
   "execution_count": 17,
   "id": "8939ef84",
   "metadata": {},
   "outputs": [
    {
     "name": "stdout",
     "output_type": "stream",
     "text": [
      "Shape: (29500, 7)\n"
     ]
    },
    {
     "data": {
      "text/html": [
       "<div>\n",
       "<style scoped>\n",
       "    .dataframe tbody tr th:only-of-type {\n",
       "        vertical-align: middle;\n",
       "    }\n",
       "\n",
       "    .dataframe tbody tr th {\n",
       "        vertical-align: top;\n",
       "    }\n",
       "\n",
       "    .dataframe thead th {\n",
       "        text-align: right;\n",
       "    }\n",
       "</style>\n",
       "<table border=\"1\" class=\"dataframe\">\n",
       "  <thead>\n",
       "    <tr style=\"text-align: right;\">\n",
       "      <th></th>\n",
       "      <th>source</th>\n",
       "      <th>title</th>\n",
       "      <th>doi</th>\n",
       "      <th>abstract</th>\n",
       "      <th>publish_time</th>\n",
       "      <th>authors</th>\n",
       "      <th>journal</th>\n",
       "    </tr>\n",
       "  </thead>\n",
       "  <tbody>\n",
       "    <tr>\n",
       "      <th>0</th>\n",
       "      <td>CZI</td>\n",
       "      <td>Angiotensin-converting enzyme 2 (ACE2) as a SA...</td>\n",
       "      <td>10.1007/s00134-020-05985-9</td>\n",
       "      <td>NaN</td>\n",
       "      <td>2020-01-01</td>\n",
       "      <td>Zhang, Haibo; Penninger, Josef M.; Li, Yimin; ...</td>\n",
       "      <td>Intensive Care Med</td>\n",
       "    </tr>\n",
       "    <tr>\n",
       "      <th>1</th>\n",
       "      <td>CZI</td>\n",
       "      <td>Comparative genetic analysis of the novel coro...</td>\n",
       "      <td>10.1038/s41421-020-0147-1</td>\n",
       "      <td>NaN</td>\n",
       "      <td>2020-01-01</td>\n",
       "      <td>Cao, Yanan; Li, Lin; Feng, Zhimin; Wan, Shengq...</td>\n",
       "      <td>Cell Discovery</td>\n",
       "    </tr>\n",
       "    <tr>\n",
       "      <th>2</th>\n",
       "      <td>CZI</td>\n",
       "      <td>Incubation Period and Other Epidemiological Ch...</td>\n",
       "      <td>10.3390/jcm9020538</td>\n",
       "      <td>The geographic spread of 2019 novel coronaviru...</td>\n",
       "      <td>2020-01-01</td>\n",
       "      <td>Linton, M. Natalie; Kobayashi, Tetsuro; Yang, ...</td>\n",
       "      <td>Journal of Clinical Medicine</td>\n",
       "    </tr>\n",
       "    <tr>\n",
       "      <th>3</th>\n",
       "      <td>CZI</td>\n",
       "      <td>Characteristics of and Public Health Responses...</td>\n",
       "      <td>10.3390/jcm9020575</td>\n",
       "      <td>In December 2019, cases of unidentified pneumo...</td>\n",
       "      <td>2020-01-01</td>\n",
       "      <td>Deng, Sheng-Qun; Peng, Hong-Juan</td>\n",
       "      <td>J Clin Med</td>\n",
       "    </tr>\n",
       "    <tr>\n",
       "      <th>4</th>\n",
       "      <td>CZI</td>\n",
       "      <td>Imaging changes in severe COVID-19 pneumonia</td>\n",
       "      <td>10.1007/s00134-020-05976-w</td>\n",
       "      <td>NaN</td>\n",
       "      <td>2020-01-01</td>\n",
       "      <td>Zhang, Wei</td>\n",
       "      <td>Intensive Care Med</td>\n",
       "    </tr>\n",
       "  </tbody>\n",
       "</table>\n",
       "</div>"
      ],
      "text/plain": [
       "  source                                              title  \\\n",
       "0    CZI  Angiotensin-converting enzyme 2 (ACE2) as a SA...   \n",
       "1    CZI  Comparative genetic analysis of the novel coro...   \n",
       "2    CZI  Incubation Period and Other Epidemiological Ch...   \n",
       "3    CZI  Characteristics of and Public Health Responses...   \n",
       "4    CZI       Imaging changes in severe COVID-19 pneumonia   \n",
       "\n",
       "                          doi  \\\n",
       "0  10.1007/s00134-020-05985-9   \n",
       "1   10.1038/s41421-020-0147-1   \n",
       "2          10.3390/jcm9020538   \n",
       "3          10.3390/jcm9020575   \n",
       "4  10.1007/s00134-020-05976-w   \n",
       "\n",
       "                                            abstract publish_time  \\\n",
       "0                                                NaN   2020-01-01   \n",
       "1                                                NaN   2020-01-01   \n",
       "2  The geographic spread of 2019 novel coronaviru...   2020-01-01   \n",
       "3  In December 2019, cases of unidentified pneumo...   2020-01-01   \n",
       "4                                                NaN   2020-01-01   \n",
       "\n",
       "                                             authors  \\\n",
       "0  Zhang, Haibo; Penninger, Josef M.; Li, Yimin; ...   \n",
       "1  Cao, Yanan; Li, Lin; Feng, Zhimin; Wan, Shengq...   \n",
       "2  Linton, M. Natalie; Kobayashi, Tetsuro; Yang, ...   \n",
       "3                   Deng, Sheng-Qun; Peng, Hong-Juan   \n",
       "4                                         Zhang, Wei   \n",
       "\n",
       "                        journal  \n",
       "0            Intensive Care Med  \n",
       "1                Cell Discovery  \n",
       "2  Journal of Clinical Medicine  \n",
       "3                    J Clin Med  \n",
       "4            Intensive Care Med  "
      ]
     },
     "metadata": {},
     "output_type": "display_data"
    },
    {
     "name": "stdout",
     "output_type": "stream",
     "text": [
      "<class 'pandas.core.frame.DataFrame'>\n",
      "RangeIndex: 29500 entries, 0 to 29499\n",
      "Data columns (total 7 columns):\n",
      " #   Column        Non-Null Count  Dtype         \n",
      "---  ------        --------------  -----         \n",
      " 0   source        29500 non-null  object        \n",
      " 1   title         29491 non-null  object        \n",
      " 2   doi           26357 non-null  object        \n",
      " 3   abstract      26909 non-null  object        \n",
      " 4   publish_time  1188 non-null   datetime64[ns]\n",
      " 5   authors       28903 non-null  object        \n",
      " 6   journal       17791 non-null  object        \n",
      "dtypes: datetime64[ns](1), object(6)\n",
      "memory usage: 1.6+ MB\n",
      "Memory (MB): 72.35734558105469\n"
     ]
    }
   ],
   "source": [
    "print(\"Shape:\", df.shape)\n",
    "display(df.head())\n",
    "df.info()\n",
    "print(\"Memory (MB):\", df.memory_usage(deep=True).sum() / 1024**2)"
   ]
  },
  {
   "cell_type": "code",
   "execution_count": 18,
   "id": "33309400",
   "metadata": {},
   "outputs": [
    {
     "data": {
      "text/html": [
       "<div>\n",
       "<style scoped>\n",
       "    .dataframe tbody tr th:only-of-type {\n",
       "        vertical-align: middle;\n",
       "    }\n",
       "\n",
       "    .dataframe tbody tr th {\n",
       "        vertical-align: top;\n",
       "    }\n",
       "\n",
       "    .dataframe thead th {\n",
       "        text-align: right;\n",
       "    }\n",
       "</style>\n",
       "<table border=\"1\" class=\"dataframe\">\n",
       "  <thead>\n",
       "    <tr style=\"text-align: right;\">\n",
       "      <th></th>\n",
       "      <th>missing_count</th>\n",
       "      <th>missing_pct</th>\n",
       "    </tr>\n",
       "  </thead>\n",
       "  <tbody>\n",
       "    <tr>\n",
       "      <th>publish_time</th>\n",
       "      <td>28312</td>\n",
       "      <td>95.97</td>\n",
       "    </tr>\n",
       "    <tr>\n",
       "      <th>journal</th>\n",
       "      <td>11709</td>\n",
       "      <td>39.69</td>\n",
       "    </tr>\n",
       "    <tr>\n",
       "      <th>doi</th>\n",
       "      <td>3143</td>\n",
       "      <td>10.65</td>\n",
       "    </tr>\n",
       "    <tr>\n",
       "      <th>abstract</th>\n",
       "      <td>2591</td>\n",
       "      <td>8.78</td>\n",
       "    </tr>\n",
       "    <tr>\n",
       "      <th>authors</th>\n",
       "      <td>597</td>\n",
       "      <td>2.02</td>\n",
       "    </tr>\n",
       "    <tr>\n",
       "      <th>title</th>\n",
       "      <td>9</td>\n",
       "      <td>0.03</td>\n",
       "    </tr>\n",
       "    <tr>\n",
       "      <th>source</th>\n",
       "      <td>0</td>\n",
       "      <td>0.00</td>\n",
       "    </tr>\n",
       "  </tbody>\n",
       "</table>\n",
       "</div>"
      ],
      "text/plain": [
       "              missing_count  missing_pct\n",
       "publish_time          28312        95.97\n",
       "journal               11709        39.69\n",
       "doi                    3143        10.65\n",
       "abstract               2591         8.78\n",
       "authors                 597         2.02\n",
       "title                     9         0.03\n",
       "source                    0         0.00"
      ]
     },
     "metadata": {},
     "output_type": "display_data"
    }
   ],
   "source": [
    "# 7. Missing values\n",
    "display(missing_summary(df).head(30))"
   ]
  },
  {
   "cell_type": "code",
   "execution_count": 19,
   "id": "469327fc",
   "metadata": {},
   "outputs": [
    {
     "name": "stdout",
     "output_type": "stream",
     "text": [
      "Rows no title: 9\n",
      "Rows no abstract: 2591\n",
      "Rows no title & no abstract: 9\n"
     ]
    }
   ],
   "source": [
    "# 8. Missing title/abstract counts\n",
    "no_title = df['title'].isnull() | (df['title'].str.strip() == \"\")\n",
    "no_abstract = df['abstract'].isnull() | (df['abstract'].str.strip() == \"\")\n",
    "print(\"Rows no title:\", int(no_title.sum()))\n",
    "print(\"Rows no abstract:\", int(no_abstract.sum()))\n",
    "print(\"Rows no title & no abstract:\", int((no_title & no_abstract).sum()))"
   ]
  },
  {
   "cell_type": "code",
   "execution_count": 20,
   "id": "1fde2c69",
   "metadata": {},
   "outputs": [
    {
     "data": {
      "text/plain": [
       "title           25009\n",
       "authors         24208\n",
       "abstract        22810\n",
       "doi             22204\n",
       "journal          1733\n",
       "publish_time       11\n",
       "source              4\n",
       "dtype: int64"
      ]
     },
     "metadata": {},
     "output_type": "display_data"
    },
    {
     "name": "stdout",
     "output_type": "stream",
     "text": [
      "Exact duplicate rows: 4193\n"
     ]
    }
   ],
   "source": [
    "# 9. Uniqueness & duplicates\n",
    "display(df.nunique(dropna=False).sort_values(ascending=False).head(20))\n",
    "print(\"Exact duplicate rows:\", int(df.duplicated().sum()))\n",
    "if 'cord_uid' in df.columns:\n",
    "    print(\"Duplicate cord_uid:\", int(df.duplicated(subset=['cord_uid']).sum()))\n"
   ]
  },
  {
   "cell_type": "code",
   "execution_count": 21,
   "id": "5c8aba44",
   "metadata": {},
   "outputs": [
    {
     "data": {
      "text/html": [
       "<div>\n",
       "<style scoped>\n",
       "    .dataframe tbody tr th:only-of-type {\n",
       "        vertical-align: middle;\n",
       "    }\n",
       "\n",
       "    .dataframe tbody tr th {\n",
       "        vertical-align: top;\n",
       "    }\n",
       "\n",
       "    .dataframe thead th {\n",
       "        text-align: right;\n",
       "    }\n",
       "</style>\n",
       "<table border=\"1\" class=\"dataframe\">\n",
       "  <thead>\n",
       "    <tr style=\"text-align: right;\">\n",
       "      <th></th>\n",
       "      <th>count</th>\n",
       "      <th>unique</th>\n",
       "      <th>top</th>\n",
       "      <th>freq</th>\n",
       "      <th>mean</th>\n",
       "      <th>min</th>\n",
       "      <th>25%</th>\n",
       "      <th>50%</th>\n",
       "      <th>75%</th>\n",
       "      <th>max</th>\n",
       "    </tr>\n",
       "  </thead>\n",
       "  <tbody>\n",
       "    <tr>\n",
       "      <th>source</th>\n",
       "      <td>29500</td>\n",
       "      <td>4</td>\n",
       "      <td>PMC</td>\n",
       "      <td>27337</td>\n",
       "      <td>NaN</td>\n",
       "      <td>NaN</td>\n",
       "      <td>NaN</td>\n",
       "      <td>NaN</td>\n",
       "      <td>NaN</td>\n",
       "      <td>NaN</td>\n",
       "    </tr>\n",
       "    <tr>\n",
       "      <th>title</th>\n",
       "      <td>29491</td>\n",
       "      <td>25008</td>\n",
       "      <td>Articles of Significant Interest Selected from...</td>\n",
       "      <td>67</td>\n",
       "      <td>NaN</td>\n",
       "      <td>NaN</td>\n",
       "      <td>NaN</td>\n",
       "      <td>NaN</td>\n",
       "      <td>NaN</td>\n",
       "      <td>NaN</td>\n",
       "    </tr>\n",
       "    <tr>\n",
       "      <th>doi</th>\n",
       "      <td>26357</td>\n",
       "      <td>22203</td>\n",
       "      <td>http://dx.doi.org/10.1371/journal.pcbi.1006483</td>\n",
       "      <td>35</td>\n",
       "      <td>NaN</td>\n",
       "      <td>NaN</td>\n",
       "      <td>NaN</td>\n",
       "      <td>NaN</td>\n",
       "      <td>NaN</td>\n",
       "      <td>NaN</td>\n",
       "    </tr>\n",
       "    <tr>\n",
       "      <th>abstract</th>\n",
       "      <td>26909</td>\n",
       "      <td>22809</td>\n",
       "      <td>The automated comparison of protein-ligand bin...</td>\n",
       "      <td>35</td>\n",
       "      <td>NaN</td>\n",
       "      <td>NaN</td>\n",
       "      <td>NaN</td>\n",
       "      <td>NaN</td>\n",
       "      <td>NaN</td>\n",
       "      <td>NaN</td>\n",
       "    </tr>\n",
       "    <tr>\n",
       "      <th>publish_time</th>\n",
       "      <td>1188</td>\n",
       "      <td>NaN</td>\n",
       "      <td>NaN</td>\n",
       "      <td>NaN</td>\n",
       "      <td>2019-11-08 04:59:23.636364032</td>\n",
       "      <td>2006-01-01 00:00:00</td>\n",
       "      <td>2020-01-01 00:00:00</td>\n",
       "      <td>2020-01-01 00:00:00</td>\n",
       "      <td>2020-01-01 00:00:00</td>\n",
       "      <td>2020-01-01 00:00:00</td>\n",
       "    </tr>\n",
       "    <tr>\n",
       "      <th>authors</th>\n",
       "      <td>28903</td>\n",
       "      <td>24207</td>\n",
       "      <td>['Ehrt, Christiane', 'Brinkjost, Tobias', 'Koc...</td>\n",
       "      <td>35</td>\n",
       "      <td>NaN</td>\n",
       "      <td>NaN</td>\n",
       "      <td>NaN</td>\n",
       "      <td>NaN</td>\n",
       "      <td>NaN</td>\n",
       "      <td>NaN</td>\n",
       "    </tr>\n",
       "    <tr>\n",
       "      <th>journal</th>\n",
       "      <td>17791</td>\n",
       "      <td>1732</td>\n",
       "      <td>PLoS One</td>\n",
       "      <td>2204</td>\n",
       "      <td>NaN</td>\n",
       "      <td>NaN</td>\n",
       "      <td>NaN</td>\n",
       "      <td>NaN</td>\n",
       "      <td>NaN</td>\n",
       "      <td>NaN</td>\n",
       "    </tr>\n",
       "  </tbody>\n",
       "</table>\n",
       "</div>"
      ],
      "text/plain": [
       "              count unique                                                top  \\\n",
       "source        29500      4                                                PMC   \n",
       "title         29491  25008  Articles of Significant Interest Selected from...   \n",
       "doi           26357  22203     http://dx.doi.org/10.1371/journal.pcbi.1006483   \n",
       "abstract      26909  22809  The automated comparison of protein-ligand bin...   \n",
       "publish_time   1188    NaN                                                NaN   \n",
       "authors       28903  24207  ['Ehrt, Christiane', 'Brinkjost, Tobias', 'Koc...   \n",
       "journal       17791   1732                                           PLoS One   \n",
       "\n",
       "               freq                           mean                  min  \\\n",
       "source        27337                            NaN                  NaN   \n",
       "title            67                            NaN                  NaN   \n",
       "doi              35                            NaN                  NaN   \n",
       "abstract         35                            NaN                  NaN   \n",
       "publish_time    NaN  2019-11-08 04:59:23.636364032  2006-01-01 00:00:00   \n",
       "authors          35                            NaN                  NaN   \n",
       "journal        2204                            NaN                  NaN   \n",
       "\n",
       "                              25%                  50%                  75%  \\\n",
       "source                        NaN                  NaN                  NaN   \n",
       "title                         NaN                  NaN                  NaN   \n",
       "doi                           NaN                  NaN                  NaN   \n",
       "abstract                      NaN                  NaN                  NaN   \n",
       "publish_time  2020-01-01 00:00:00  2020-01-01 00:00:00  2020-01-01 00:00:00   \n",
       "authors                       NaN                  NaN                  NaN   \n",
       "journal                       NaN                  NaN                  NaN   \n",
       "\n",
       "                              max  \n",
       "source                        NaN  \n",
       "title                         NaN  \n",
       "doi                           NaN  \n",
       "abstract                      NaN  \n",
       "publish_time  2020-01-01 00:00:00  \n",
       "authors                       NaN  \n",
       "journal                       NaN  "
      ]
     },
     "metadata": {},
     "output_type": "display_data"
    }
   ],
   "source": [
    "\n",
    "# 10. Basic stats\n",
    "display(df.describe(include='all').T)"
   ]
  },
  {
   "cell_type": "code",
   "execution_count": 22,
   "id": "e9108c9c",
   "metadata": {},
   "outputs": [
    {
     "name": "stdout",
     "output_type": "stream",
     "text": [
      "Earliest: 2006-01-01 00:00:00\n",
      "Latest: 2020-01-01 00:00:00\n",
      "Missing publish_time: 28312\n",
      "Publications by year:\n"
     ]
    },
    {
     "data": {
      "text/plain": [
       "year\n",
       "2006.0       1\n",
       "2008.0       1\n",
       "2012.0       2\n",
       "2013.0       3\n",
       "2014.0       7\n",
       "2015.0       7\n",
       "2016.0       3\n",
       "2018.0       7\n",
       "2019.0       9\n",
       "2020.0    1148\n",
       "Name: count, dtype: int64"
      ]
     },
     "metadata": {},
     "output_type": "display_data"
    },
    {
     "data": {
      "image/png": "[encoded data removed]",
      "text/plain": [
       "<Figure size 640x480 with 1 Axes>"
      ]
     },
     "metadata": {},
     "output_type": "display_data"
    }
   ],
   "source": [
    "# 11. publish_time checks\n",
    "if 'publish_time' in df.columns:\n",
    "    print(\"Earliest:\", df['publish_time'].min())\n",
    "    print(\"Latest:\", df['publish_time'].max())\n",
    "    print(\"Missing publish_time:\", int(df['publish_time'].isna().sum()))\n",
    "    df['year'] = df['publish_time'].dt.year\n",
    "    print(\"Publications by year:\")\n",
    "    display(df['year'].value_counts(dropna=True).sort_index())\n",
    "    # plot\n",
    "    year_counts = df['year'].value_counts(dropna=True).sort_index()\n",
    "    plt.figure(); plt.bar(year_counts.index.astype(str), year_counts.values); plt.title(\"Publications by Year\"); plt.show()"
   ]
  },
  {
   "cell_type": "code",
   "execution_count": 23,
   "id": "d504d768",
   "metadata": {},
   "outputs": [
    {
     "data": {
      "text/plain": [
       "journal\n",
       "                                  11709\n",
       "PLoS One                           2204\n",
       "Emerg Infect Dis                    941\n",
       "Sci Rep                             800\n",
       "PLoS Pathog                         729\n",
       "Viruses                             638\n",
       "Virol J                             398\n",
       "mBio                                330\n",
       "BMC Infect Dis                      280\n",
       "Nucleic Acids Res                   274\n",
       "PLoS Negl Trop Dis                  227\n",
       "Front Immunol                       225\n",
       "Front Microbiol                     217\n",
       "PLoS Comput Biol                    215\n",
       "Nat Commun                          184\n",
       "BMC Vet Res                         173\n",
       "BMC Public Health                   168\n",
       "Emerg Microbes Infect               155\n",
       "BMJ Open                            153\n",
       "Influenza Other Respir Viruses      151\n",
       "Name: count, dtype: int64"
      ]
     },
     "metadata": {},
     "output_type": "display_data"
    },
    {
     "data": {
      "image/png": "[encoded data removed]",
      "text/plain": [
       "<Figure size 640x480 with 1 Axes>"
      ]
     },
     "metadata": {},
     "output_type": "display_data"
    }
   ],
   "source": [
    "# 12. Top journals plot\n",
    "if 'journal' in df.columns:\n",
    "    df['journal'] = df['journal'].fillna('').astype(str).str.strip()\n",
    "    top_j = df['journal'].value_counts().head(20)\n",
    "    display(top_j)\n",
    "    plt.figure(); plt.barh(top_j.index, top_j.values); plt.title(\"Top Journals\"); plt.gca().invert_yaxis(); plt.show()"
   ]
  },
  {
   "cell_type": "code",
   "execution_count": 24,
   "id": "e17c813c",
   "metadata": {},
   "outputs": [
    {
     "data": {
      "text/plain": [
       "count    29500.000000\n",
       "mean        13.519797\n",
       "std          5.191232\n",
       "min          0.000000\n",
       "25%         10.000000\n",
       "50%         13.000000\n",
       "75%         17.000000\n",
       "max        130.000000\n",
       "Name: title, dtype: float64"
      ]
     },
     "metadata": {},
     "output_type": "display_data"
    },
    {
     "data": {
      "image/png": "[encoded data removed]",
      "text/plain": [
       "<Figure size 640x480 with 1 Axes>"
      ]
     },
     "metadata": {},
     "output_type": "display_data"
    }
   ],
   "source": [
    "# 13. Title & abstract length distributions\n",
    "if 'title' in df.columns:\n",
    "    title_len = df['title'].fillna('').astype(str).str.split().str.len()\n",
    "    display(title_len.describe())\n",
    "    plt.figure(); plt.hist(title_len, bins=30); plt.title(\"Title word counts\"); plt.show()"
   ]
  },
  {
   "cell_type": "code",
   "execution_count": 25,
   "id": "b8f40075",
   "metadata": {},
   "outputs": [
    {
     "data": {
      "text/plain": [
       "count    29500.000000\n",
       "mean       192.679525\n",
       "std        161.755952\n",
       "min          0.000000\n",
       "25%        142.000000\n",
       "50%        199.000000\n",
       "75%        251.000000\n",
       "max      18000.000000\n",
       "Name: abstract, dtype: float64"
      ]
     },
     "metadata": {},
     "output_type": "display_data"
    },
    {
     "data": {
      "image/png": "[encoded data removed]",
      "text/plain": [
       "<Figure size 640x480 with 1 Axes>"
      ]
     },
     "metadata": {},
     "output_type": "display_data"
    }
   ],
   "source": [
    "if 'abstract' in df.columns:\n",
    "    abstract_len = df['abstract'].fillna('').astype(str).str.split().str.len()\n",
    "    display(abstract_len.describe())\n",
    "    plt.figure(); plt.hist([v if v < 2000 else 2000 for v in abstract_len], bins=40); plt.title(\"Abstract word counts (capped)\"); plt.show()"
   ]
  },
  {
   "cell_type": "code",
   "execution_count": 26,
   "id": "e56ffb9b",
   "metadata": {},
   "outputs": [
    {
     "data": {
      "text/html": [
       "<div>\n",
       "<style scoped>\n",
       "    .dataframe tbody tr th:only-of-type {\n",
       "        vertical-align: middle;\n",
       "    }\n",
       "\n",
       "    .dataframe tbody tr th {\n",
       "        vertical-align: top;\n",
       "    }\n",
       "\n",
       "    .dataframe thead th {\n",
       "        text-align: right;\n",
       "    }\n",
       "</style>\n",
       "<table border=\"1\" class=\"dataframe\">\n",
       "  <thead>\n",
       "    <tr style=\"text-align: right;\">\n",
       "      <th></th>\n",
       "      <th>word</th>\n",
       "      <th>count</th>\n",
       "    </tr>\n",
       "  </thead>\n",
       "  <tbody>\n",
       "    <tr>\n",
       "      <th>0</th>\n",
       "      <td>of</td>\n",
       "      <td>23687</td>\n",
       "    </tr>\n",
       "    <tr>\n",
       "      <th>1</th>\n",
       "      <td>and</td>\n",
       "      <td>14690</td>\n",
       "    </tr>\n",
       "    <tr>\n",
       "      <th>2</th>\n",
       "      <td>in</td>\n",
       "      <td>14443</td>\n",
       "    </tr>\n",
       "    <tr>\n",
       "      <th>3</th>\n",
       "      <td>the</td>\n",
       "      <td>12606</td>\n",
       "    </tr>\n",
       "    <tr>\n",
       "      <th>4</th>\n",
       "      <td>virus</td>\n",
       "      <td>6108</td>\n",
       "    </tr>\n",
       "    <tr>\n",
       "      <th>5</th>\n",
       "      <td>for</td>\n",
       "      <td>5321</td>\n",
       "    </tr>\n",
       "    <tr>\n",
       "      <th>6</th>\n",
       "      <td>to</td>\n",
       "      <td>4221</td>\n",
       "    </tr>\n",
       "    <tr>\n",
       "      <th>7</th>\n",
       "      <td>with</td>\n",
       "      <td>3694</td>\n",
       "    </tr>\n",
       "    <tr>\n",
       "      <th>8</th>\n",
       "      <td>respiratory</td>\n",
       "      <td>3547</td>\n",
       "    </tr>\n",
       "    <tr>\n",
       "      <th>9</th>\n",
       "      <td>coronavirus</td>\n",
       "      <td>3477</td>\n",
       "    </tr>\n",
       "    <tr>\n",
       "      <th>10</th>\n",
       "      <td>infection</td>\n",
       "      <td>2746</td>\n",
       "    </tr>\n",
       "    <tr>\n",
       "      <th>11</th>\n",
       "      <td>by</td>\n",
       "      <td>2716</td>\n",
       "    </tr>\n",
       "    <tr>\n",
       "      <th>12</th>\n",
       "      <td>from</td>\n",
       "      <td>2337</td>\n",
       "    </tr>\n",
       "    <tr>\n",
       "      <th>13</th>\n",
       "      <td>human</td>\n",
       "      <td>2308</td>\n",
       "    </tr>\n",
       "    <tr>\n",
       "      <th>14</th>\n",
       "      <td>influenza</td>\n",
       "      <td>2194</td>\n",
       "    </tr>\n",
       "    <tr>\n",
       "      <th>15</th>\n",
       "      <td>viral</td>\n",
       "      <td>2125</td>\n",
       "    </tr>\n",
       "    <tr>\n",
       "      <th>16</th>\n",
       "      <td>protein</td>\n",
       "      <td>2043</td>\n",
       "    </tr>\n",
       "    <tr>\n",
       "      <th>17</th>\n",
       "      <td>on</td>\n",
       "      <td>1958</td>\n",
       "    </tr>\n",
       "    <tr>\n",
       "      <th>18</th>\n",
       "      <td>disease</td>\n",
       "      <td>1760</td>\n",
       "    </tr>\n",
       "    <tr>\n",
       "      <th>19</th>\n",
       "      <td>an</td>\n",
       "      <td>1719</td>\n",
       "    </tr>\n",
       "    <tr>\n",
       "      <th>20</th>\n",
       "      <td>syndrome</td>\n",
       "      <td>1629</td>\n",
       "    </tr>\n",
       "    <tr>\n",
       "      <th>21</th>\n",
       "      <td>novel</td>\n",
       "      <td>1613</td>\n",
       "    </tr>\n",
       "    <tr>\n",
       "      <th>22</th>\n",
       "      <td>acute</td>\n",
       "      <td>1463</td>\n",
       "    </tr>\n",
       "    <tr>\n",
       "      <th>23</th>\n",
       "      <td>cells</td>\n",
       "      <td>1432</td>\n",
       "    </tr>\n",
       "    <tr>\n",
       "      <th>24</th>\n",
       "      <td>cell</td>\n",
       "      <td>1424</td>\n",
       "    </tr>\n",
       "    <tr>\n",
       "      <th>25</th>\n",
       "      <td>rna</td>\n",
       "      <td>1401</td>\n",
       "    </tr>\n",
       "    <tr>\n",
       "      <th>26</th>\n",
       "      <td>analysis</td>\n",
       "      <td>1332</td>\n",
       "    </tr>\n",
       "    <tr>\n",
       "      <th>27</th>\n",
       "      <td>viruses</td>\n",
       "      <td>1283</td>\n",
       "    </tr>\n",
       "    <tr>\n",
       "      <th>28</th>\n",
       "      <td>is</td>\n",
       "      <td>1272</td>\n",
       "    </tr>\n",
       "    <tr>\n",
       "      <th>29</th>\n",
       "      <td>sars</td>\n",
       "      <td>1208</td>\n",
       "    </tr>\n",
       "  </tbody>\n",
       "</table>\n",
       "</div>"
      ],
      "text/plain": [
       "           word  count\n",
       "0            of  23687\n",
       "1           and  14690\n",
       "2            in  14443\n",
       "3           the  12606\n",
       "4         virus   6108\n",
       "5           for   5321\n",
       "6            to   4221\n",
       "7          with   3694\n",
       "8   respiratory   3547\n",
       "9   coronavirus   3477\n",
       "10    infection   2746\n",
       "11           by   2716\n",
       "12         from   2337\n",
       "13        human   2308\n",
       "14    influenza   2194\n",
       "15        viral   2125\n",
       "16      protein   2043\n",
       "17           on   1958\n",
       "18      disease   1760\n",
       "19           an   1719\n",
       "20     syndrome   1629\n",
       "21        novel   1613\n",
       "22        acute   1463\n",
       "23        cells   1432\n",
       "24         cell   1424\n",
       "25          rna   1401\n",
       "26     analysis   1332\n",
       "27      viruses   1283\n",
       "28           is   1272\n",
       "29         sars   1208"
      ]
     },
     "metadata": {},
     "output_type": "display_data"
    }
   ],
   "source": [
    "# 14. Naive top words from titles\n",
    "if 'title' in df.columns:\n",
    "    display(pd.DataFrame(simple_top_words(df['title'], top_n=30), columns=['word','count']))"
   ]
  }
 ],
 "metadata": {
  "kernelspec": {
   "display_name": "Python 3",
   "language": "python",
   "name": "python3"
  },
  "language_info": {
   "codemirror_mode": {
    "name": "ipython",
    "version": 3
   },
   "file_extension": ".py",
   "mimetype": "text/x-python",
   "name": "python",
   "nbconvert_exporter": "python",
   "pygments_lexer": "ipython3",
   "version": "3.13.6"
  }
 },
 "nbformat": 4,
 "nbformat_minor": 5
}
